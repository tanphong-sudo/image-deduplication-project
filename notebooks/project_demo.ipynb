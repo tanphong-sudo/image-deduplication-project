{
  "nbformat": 4,
  "nbformat_minor": 0,
  "metadata": {
    "colab": {
      "provenance": [],
      "authorship_tag": "ABX9TyNzQkprO3Y4ui8ZGiT+llkS",
      "include_colab_link": true
    },
    "kernelspec": {
      "name": "python3",
      "display_name": "Python 3"
    },
    "language_info": {
      "name": "python"
    }
  },
  "cells": [
    {
      "cell_type": "markdown",
      "metadata": {
        "id": "view-in-github",
        "colab_type": "text"
      },
      "source": [
        "<a href=\"https://colab.research.google.com/github/tanphong-sudo/image-deduplication-project/blob/main/notebooks/project_demo.ipynb\" target=\"_parent\"><img src=\"https://colab.research.google.com/assets/colab-badge.svg\" alt=\"Open In Colab\"/></a>"
      ]
    },
    {
      "cell_type": "code",
      "execution_count": null,
      "metadata": {
        "id": "zBmZM_nNyVgS"
      },
      "outputs": [],
      "source": [
        "GIT_REPO_URL = \"https://github.com/tanphong-sudo/image-deduplication-project\"\n",
        "\n",
        "# Clone repo vào môi trường Colab\n",
        "!git clone $GIT_REPO_URL\n",
        "\n",
        "# Di chuyển vào thư mục gốc của project\n",
        "%cd image-deduplication-project"
      ]
    }
  ]
}