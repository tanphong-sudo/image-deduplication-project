{
  "cells": [
    {
      "cell_type": "markdown",
      "metadata": {
        "colab_type": "text",
        "id": "view-in-github"
      },
      "source": [
        "# 🖼️ Image Deduplication with Deep Learning & LSH\n",
        "\n",
        "**HCMUT** - Data Structures & Algorithms Project\n",
        "\n",
        "<a href=\"https://colab.research.google.com/github/tanphong-sudo/image-deduplication-project/blob/main/notebooks/project_demo.ipynb\" target=\"_parent\"><img src=\"https://colab.research.google.com/assets/colab-badge.svg\" alt=\"Open In Colab\"/></a>"
      ]
    },
    {
      "cell_type": "code",
      "execution_count": null,
      "metadata": {
        "id": "zBmZM_nNyVgS"
      },
      "outputs": [],
      "source": [
        "# Clone repository\n",
        "GIT_REPO_URL = \"https://github.com/tanphong-sudo/image-deduplication-project\"\n",
        "!git clone $GIT_REPO_URL\n",
        "%cd image-deduplication-project"
      ]
    },
    {
      "cell_type": "code",
      "execution_count": null,
      "metadata": {},
      "outputs": [],
      "source": [
        "# Install dependencies\n",
        "!pip install -q -r requirements.txt"
      ]
    },
    {
      "cell_type": "code",
      "execution_count": null,
      "metadata": {},
      "outputs": [],
      "source": [
        "# Build C++ SimHash module\n",
        "%cd src/lsh_cpp_module\n",
        "!pip install -q -e .\n",
        "%cd ../.."
      ]
    },
    {
      "cell_type": "markdown",
      "metadata": {},
      "source": [
        "---\n",
        "\n",
        "## ⚡ Quick Start (Recommended)\n",
        "\n",
        "Run this cell for default configuration (EfficientNet + FAISS):"
      ]
    },
    {
      "cell_type": "code",
      "execution_count": null,
      "metadata": {},
      "outputs": [],
      "source": [
        "# Run with best defaults: EfficientNet + FAISS\n",
        "!python run_pipeline.py"
      ]
    },
    {
      "cell_type": "markdown",
      "metadata": {},
      "source": [
        "---\n",
        "\n",
        "## 🎛️ Advanced: Custom Configuration\n",
        "\n",
        "Want to try different combinations? Edit and run this cell:"
      ]
    },
    {
      "cell_type": "code",
      "execution_count": null,
      "metadata": {},
      "outputs": [],
      "source": [
        "# ========================================\n",
        "# CONFIGURATION - Edit these parameters\n",
        "# ========================================\n",
        "\n",
        "# Feature Extractor: 'resnet' or 'efficientnet'\n",
        "EXTRACTOR = 'efficientnet'\n",
        "\n",
        "# Search Method: 'faiss', 'simhash', or 'minhash'\n",
        "METHOD = 'faiss'\n",
        "\n",
        "# Threshold (for FAISS and MinHash): recommended 50-100 for FAISS, 0.5 for MinHash\n",
        "THRESHOLD = 50.0\n",
        "\n",
        "# Hamming Threshold (for SimHash only): recommended 5 for EfficientNet, 6 for ResNet\n",
        "HAMMING_THRESHOLD = 5\n",
        "\n",
        "# ========================================\n",
        "# Run pipeline with your configuration\n",
        "# ========================================\n",
        "if METHOD == 'simhash':\n",
        "    !python run_pipeline.py --extractor {EXTRACTOR} --method {METHOD} --hamming-threshold {HAMMING_THRESHOLD}\n",
        "else:\n",
        "    !python run_pipeline.py --extractor {EXTRACTOR} --method {METHOD} --threshold {THRESHOLD}"
      ]
    },
    {
      "cell_type": "markdown",
      "metadata": {},
      "source": [
        "### 💡 Recommended Configurations\n",
        "\n",
        "| Configuration | Extractor | Method | Threshold/Hamming | Use Case |\n",
        "|--------------|-----------|--------|-------------------|----------|\n",
        "| **Best Accuracy** | efficientnet | faiss | 50 | Production, guaranteed results |\n",
        "| **Best Speed** | efficientnet | faiss | 50 | Fast queries, moderate dataset |\n",
        "| **Large Scale** | efficientnet | simhash | 5 | Billions of images, memory limited |\n",
        "| **High Dimensional** | resnet | simhash | 6 | Very high-dim features (2048D) |\n",
        "| **Baseline** | efficientnet | minhash | 0.5 | Comparison benchmark |\n",
        "\n",
        "*Edit the configuration cell above to try different combinations!*"
      ]
    },
    {
      "cell_type": "markdown",
      "metadata": {},
      "source": [
        "## 📊 View Results"
      ]
    },
    {
      "cell_type": "code",
      "execution_count": null,
      "metadata": {},
      "outputs": [],
      "source": [
        "# Load and display evaluation results\n",
        "import json\n",
        "\n",
        "with open('data/processed/evaluation_full.json', 'r') as f:\n",
        "    results = json.load(f)\n",
        "\n",
        "print(\"=\" * 60)\n",
        "print(\"EVALUATION RESULTS\")\n",
        "print(\"=\" * 60)\n",
        "print(json.dumps(results, indent=2))\n",
        "\n",
        "# Visualize duplicate clusters\n",
        "print(\"\\n\" + \"=\" * 60)\n",
        "print(\"Visualizing duplicate clusters...\")\n",
        "print(\"=\" * 60)\n",
        "!python view_results.py"
      ]
    },
    {
      "cell_type": "markdown",
      "metadata": {},
      "source": [
        "## ⚡ Benchmark: C++ vs Python SimHash"
      ]
    },
    {
      "cell_type": "code",
      "execution_count": null,
      "metadata": {},
      "outputs": [],
      "source": [
        "# Run performance benchmark\n",
        "%cd src/lsh_cpp_module\n",
        "!python benchmark_comparison.py\n",
        "%cd ../.."
      ]
    },
    {
      "cell_type": "code",
      "execution_count": null,
      "metadata": {},
      "outputs": [],
      "source": [
        "# Display benchmark visualization\n",
        "from IPython.display import Image, display\n",
        "display(Image('src/lsh_cpp_module/lsh_benchmark_results.png'))"
      ]
    },
    {
      "cell_type": "markdown",
      "metadata": {},
      "source": [
        "## 📈 Summary & Conclusions\n",
        "\n",
        "### Key Findings:\n",
        "\n",
        "1. **FAISS**: Best overall performance with 100% accuracy and fastest query time\n",
        "2. **SimHash LSH (C++)**: Excellent for large-scale applications, memory efficient\n",
        "3. **MinHash LSH**: Good baseline, suitable for set-based similarity\n",
        "\n",
        "### Performance Highlights:\n",
        "\n",
        "- **C++ SimHash** achieves 165-187x speedup over Python implementations\n",
        "- **Multi-probing** critical for high recall with deep learning features\n",
        "- **Hamming threshold tuning**: 5-6 optimal for 100% recall\n",
        "\n",
        "### Recommendations:\n",
        "\n",
        "- Use **FAISS** for production systems requiring guaranteed accuracy\n",
        "- Use **SimHash C++** for billion-scale datasets with memory constraints\n",
        "- Tune `hamming_threshold` based on feature extractor (ResNet50: 6, EfficientNet: 5)"
      ]
    },
    {
      "cell_type": "markdown",
      "metadata": {},
      "source": [
        "---\n",
        "\n",
        "## 📚 References\n",
        "\n",
        "1.\n",
        "---\n",
        "\n",
        "**Team**: Lê Bảo Tấn Phong, Nguyễn Anh Quân, Phạm Văn Hên  \n",
        "**HCMUT** - Data Structures & Algorithms - 2025\n",
        "\n",
        "⭐ [GitHub Repository](https://github.com/tanphong-sudo/image-deduplication-project)"
      ]
    }
  ],
  "metadata": {
    "colab": {
      "authorship_tag": "ABX9TyNzQkprO3Y4ui8ZGiT+llkS",
      "include_colab_link": true,
      "provenance": []
    },
    "kernelspec": {
      "display_name": ".venv",
      "language": "python",
      "name": "python3"
    },
    "language_info": {
      "name": "python",
      "version": "3.9.6"
    }
  },
  "nbformat": 4,
  "nbformat_minor": 0
}
