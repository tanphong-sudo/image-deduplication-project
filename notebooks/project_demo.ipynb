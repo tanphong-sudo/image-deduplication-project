{
  "cells": [
    {
      "cell_type": "markdown",
      "metadata": {
        "colab_type": "text",
        "id": "view-in-github"
      },
      "source": [
        "# 🖼️ Image Deduplication with Deep Learning & LSH\n",
        "\n",
        "**HCMUT** - Data Structures & Algorithms Project\n",
        "\n",
        "<a href=\"https://colab.research.google.com/github/tanphong-sudo/image-deduplication-project/blob/main/notebooks/project_demo.ipynb\" target=\"_parent\"><img src=\"https://colab.research.google.com/assets/colab-badge.svg\" alt=\"Open In Colab\"/></a>"
      ]
    },
    {
      "cell_type": "code",
      "execution_count": 1,
      "metadata": {
        "id": "zBmZM_nNyVgS"
      },
      "outputs": [
        {
          "name": "stdout",
          "output_type": "stream",
          "text": [
            "Cloning into 'image-deduplication-project'...\n",
            "remote: Enumerating objects: 253, done.\u001b[K\n",
            "remote: Counting objects: 100% (253/253), done.\u001b[K\n",
            "remote: Compressing objects: 100% (160/160), done.\u001b[K\n",
            "remote: Enumerating objects: 253, done.\u001b[K\n",
            "remote: Counting objects: 100% (253/253), done.\u001b[K\n",
            "remote: Compressing objects: 100% (160/160), done.\u001b[K\n",
            "remote: Total 253 (delta 130), reused 194 (delta 84), pack-reused 0 (from 0)\u001b[K\n",
            "Receiving objects: 100% (253/253), 81.85 KiB | 1.32 MiB/s, done.\n",
            "Resolving deltas: 100% (130/130), done.\n",
            "remote: Total 253 (delta 130), reused 194 (delta 84), pack-reused 0 (from 0)\u001b[K\n",
            "Receiving objects: 100% (253/253), 81.85 KiB | 1.32 MiB/s, done.\n",
            "Resolving deltas: 100% (130/130), done.\n",
            "/Users/lebaotanphong/Documents/image-deduplication-project/notebooks/image-deduplication-project\n",
            "/Users/lebaotanphong/Documents/image-deduplication-project/notebooks/image-deduplication-project\n"
          ]
        },
        {
          "name": "stderr",
          "output_type": "stream",
          "text": [
            "/Users/lebaotanphong/Documents/image-deduplication-project/.venv/lib/python3.9/site-packages/IPython/core/magics/osm.py:417: UserWarning: using dhist requires you to install the `pickleshare` library.\n",
            "  self.shell.db['dhist'] = compress_dhist(dhist)[-100:]\n"
          ]
        }
      ],
      "source": [
        "# Clone repository\n",
        "GIT_REPO_URL = \"https://github.com/tanphong-sudo/image-deduplication-project\"\n",
        "!git clone $GIT_REPO_URL\n",
        "%cd image-deduplication-project"
      ]
    },
    {
      "cell_type": "code",
      "execution_count": 2,
      "metadata": {},
      "outputs": [],
      "source": [
        "# Install dependencies\n",
        "!pip install -q -r requirements.txt"
      ]
    },
    {
      "cell_type": "markdown",
      "metadata": {},
      "source": [
        "**Note:** The C++ SimHash module is optional. If build fails, you can still use FAISS and MinHash methods."
      ]
    },
    {
      "cell_type": "code",
      "execution_count": 5,
      "metadata": {},
      "outputs": [
        {
          "name": "stdout",
          "output_type": "stream",
          "text": [
            "/Users/lebaotanphong/Documents/image-deduplication-project/notebooks/image-deduplication-project/src/lsh_cpp_module\n",
            "✓ Pybind11 found: /Users/lebaotanphong/Documents/image-deduplication-project/.venv/lib/python3.9/site-packages/pybind11/include\n",
            "running build_ext\n",
            "building 'lsh_cpp_module' extension\n",
            "creating build\n",
            "creating build/temp.macosx-10.9-universal2-3.9\n",
            "creating build/temp.macosx-10.9-universal2-3.9/lsh_cpp\n",
            "clang -Wno-unused-result -Wsign-compare -Wunreachable-code -fno-common -dynamic -DNDEBUG -g -fwrapv -O3 -Wall -iwithsysroot/System/Library/Frameworks/System.framework/PrivateHeaders -iwithsysroot/Applications/Xcode.app/Contents/Developer/Library/Frameworks/Python3.framework/Versions/3.9/Headers -arch arm64 -arch x86_64 -Werror=implicit-function-declaration -Wno-error=unreachable-code -Wno-error=unused-but-set-variable -Wno-error=cast-function-type-mismatch -Wno-unknown-warning-option -I/Users/lebaotanphong/Documents/image-deduplication-project/.venv/lib/python3.9/site-packages/pybind11/include -Ilsh_cpp -I/Users/lebaotanphong/Documents/image-deduplication-project/.venv/include -I/Applications/Xcode.app/Contents/Developer/Library/Frameworks/Python3.framework/Versions/3.9/include/python3.9 -c lsh_cpp/bindings.cpp -o build/temp.macosx-10.9-universal2-3.9/lsh_cpp/bindings.o -DVERSION_INFO=\"1.0.0\" -std=c++14 -O3 -ffast-math -Wall -Wextra -mcpu=apple-m1\n",
            "running build_ext\n",
            "building 'lsh_cpp_module' extension\n",
            "creating build\n",
            "creating build/temp.macosx-10.9-universal2-3.9\n",
            "creating build/temp.macosx-10.9-universal2-3.9/lsh_cpp\n",
            "clang -Wno-unused-result -Wsign-compare -Wunreachable-code -fno-common -dynamic -DNDEBUG -g -fwrapv -O3 -Wall -iwithsysroot/System/Library/Frameworks/System.framework/PrivateHeaders -iwithsysroot/Applications/Xcode.app/Contents/Developer/Library/Frameworks/Python3.framework/Versions/3.9/Headers -arch arm64 -arch x86_64 -Werror=implicit-function-declaration -Wno-error=unreachable-code -Wno-error=unused-but-set-variable -Wno-error=cast-function-type-mismatch -Wno-unknown-warning-option -I/Users/lebaotanphong/Documents/image-deduplication-project/.venv/lib/python3.9/site-packages/pybind11/include -Ilsh_cpp -I/Users/lebaotanphong/Documents/image-deduplication-project/.venv/include -I/Applications/Xcode.app/Contents/Developer/Library/Frameworks/Python3.framework/Versions/3.9/include/python3.9 -c lsh_cpp/bindings.cpp -o build/temp.macosx-10.9-universal2-3.9/lsh_cpp/bindings.o -DVERSION_INFO=\"1.0.0\" -std=c++14 -O3 -ffast-math -Wall -Wextra -mcpu=apple-m1\n",
            "In file included from lsh_cpp/bindings.cpp:4:\n",
            "\u001b[1mlsh_cpp/simhash.cpp:182:24: \u001b[0m\u001b[0;1;35mwarning: \u001b[0m\u001b[1mcomparison of integers of different signs: 'size_type' (aka 'unsigned long') and 'int' [-Wsign-compare]\u001b[0m\n",
            "  182 |         \u001b[0;34mif\u001b[0m (vec.size() != dim) {\u001b[0m\n",
            "      | \u001b[0;1;32m            ~~~~~~~~~~ ^  ~~~\n",
            "\u001b[0m\u001b[1mlsh_cpp/simhash.cpp:224:30: \u001b[0m\u001b[0;1;35mwarning: \u001b[0m\u001b[1mcomparison of integers of different signs: 'size_type' (aka 'unsigned long') and 'int' [-Wsign-compare]\u001b[0m\n",
            "  224 |         \u001b[0;34mif\u001b[0m (query_vec.size() != dim) {\u001b[0m\n",
            "      | \u001b[0;1;32m            ~~~~~~~~~~~~~~~~ ^  ~~~\n",
            "\u001b[0m\u001b[1mlsh_cpp/simhash.cpp:231:65: \u001b[0m\u001b[0;1;35mwarning: \u001b[0m\u001b[1mcomparison of integers of different signs: 'size_type' (aka 'unsigned long') and 'int' [-Wsign-compare]\u001b[0m\n",
            "  231 |         \u001b[0;34mfor\u001b[0m (\u001b[0;34mint\u001b[0m t = \u001b[0;32m0\u001b[0m; t < num_tables && candidates_set.size() < max_candidates; ++t) {\u001b[0m\n",
            "      | \u001b[0;1;32m                                          ~~~~~~~~~~~~~~~~~~~~~ ^ ~~~~~~~~~~~~~~\n",
            "\u001b[0m\u001b[1mlsh_cpp/simhash.cpp:243:51: \u001b[0m\u001b[0;1;35mwarning: \u001b[0m\u001b[1mcomparison of integers of different signs: 'size_type' (aka 'unsigned long') and 'int' [-Wsign-compare]\u001b[0m\n",
            "  243 |                         \u001b[0;34mif\u001b[0m (candidates_set.size() >= max_candidates) \u001b[0;34mbreak\u001b[0m;\u001b[0m\n",
            "      | \u001b[0;1;32m                            ~~~~~~~~~~~~~~~~~~~~~ ^  ~~~~~~~~~~~~~~\n",
            "\u001b[0m\u001b[1mlsh_cpp/simhash.cpp:245:47: \u001b[0m\u001b[0;1;35mwarning: \u001b[0m\u001b[1mcomparison of integers of different signs: 'size_type' (aka 'unsigned long') and 'int' [-Wsign-compare]\u001b[0m\n",
            "  245 |                     \u001b[0;34mif\u001b[0m (candidates_set.size() >= max_candidates) \u001b[0;34mbreak\u001b[0m;\u001b[0m\n",
            "      | \u001b[0;1;32m                        ~~~~~~~~~~~~~~~~~~~~~ ^  ~~~~~~~~~~~~~~\n",
            "\u001b[0m\u001b[1mlsh_cpp/simhash.cpp:263:28: \u001b[0m\u001b[0;1;35mwarning: \u001b[0m\u001b[1mcomparison of integers of different signs: 'size_type' (aka 'unsigned long') and 'int' [-Wsign-compare]\u001b[0m\n",
            "  263 |         \u001b[0;34mif\u001b[0m (results.size() > k) {\u001b[0m\n",
            "      | \u001b[0;1;32m            ~~~~~~~~~~~~~~ ^ ~\n",
            "\u001b[0m\u001b[1mlsh_cpp/simhash.cpp:282:30: \u001b[0m\u001b[0;1;35mwarning: \u001b[0m\u001b[1mcomparison of integers of different signs: 'size_type' (aka 'unsigned long') and 'int' [-Wsign-compare]\u001b[0m\n",
            "  282 |         \u001b[0;34mif\u001b[0m (query_vec.size() != dim) {\u001b[0m\n",
            "      | \u001b[0;1;32m            ~~~~~~~~~~~~~~~~ ^  ~~~\n",
            "\u001b[0m\u001b[1mlsh_cpp/simhash.cpp:288:65: \u001b[0m\u001b[0;1;35mwarning: \u001b[0m\u001b[1mcomparison of integers of different signs: 'size_type' (aka 'unsigned long') and 'int' [-Wsign-compare]\u001b[0m\n",
            "  288 |         \u001b[0;34mfor\u001b[0m (\u001b[0;34mint\u001b[0m t = \u001b[0;32m0\u001b[0m; t < num_tables && candidates_set.size() < max_candidates; ++t) {\u001b[0m\n",
            "      | \u001b[0;1;32m                                          ~~~~~~~~~~~~~~~~~~~~~ ^ ~~~~~~~~~~~~~~\n",
            "\u001b[0m\u001b[1mlsh_cpp/simhash.cpp:300:51: \u001b[0m\u001b[0;1;35mwarning: \u001b[0m\u001b[1mcomparison of integers of different signs: 'size_type' (aka 'unsigned long') and 'int' [-Wsign-compare]\u001b[0m\n",
            "  300 |                         \u001b[0;34mif\u001b[0m (candidates_set.size() >= max_candidates) \u001b[0;34mbreak\u001b[0m;\u001b[0m\n",
            "      | \u001b[0;1;32m                            ~~~~~~~~~~~~~~~~~~~~~ ^  ~~~~~~~~~~~~~~\n",
            "\u001b[0m\u001b[1mlsh_cpp/simhash.cpp:302:47: \u001b[0m\u001b[0;1;35mwarning: \u001b[0m\u001b[1mcomparison of integers of different signs: 'size_type' (aka 'unsigned long') and 'int' [-Wsign-compare]\u001b[0m\n",
            "  302 |                     \u001b[0;34mif\u001b[0m (candidates_set.size() >= max_candidates) \u001b[0;34mbreak\u001b[0m;\u001b[0m\n",
            "      | \u001b[0;1;32m                        ~~~~~~~~~~~~~~~~~~~~~ ^  ~~~~~~~~~~~~~~\n",
            "\u001b[0mIn file included from lsh_cpp/bindings.cpp:4:\n",
            "\u001b[1mlsh_cpp/simhash.cpp:182:24: \u001b[0m\u001b[0;1;35mwarning: \u001b[0m\u001b[1mcomparison of integers of different signs: 'size_type' (aka 'unsigned long') and 'int' [-Wsign-compare]\u001b[0m\n",
            "  182 |         \u001b[0;34mif\u001b[0m (vec.size() != dim) {\u001b[0m\n",
            "      | \u001b[0;1;32m            ~~~~~~~~~~ ^  ~~~\n",
            "\u001b[0m\u001b[1mlsh_cpp/simhash.cpp:224:30: \u001b[0m\u001b[0;1;35mwarning: \u001b[0m\u001b[1mcomparison of integers of different signs: 'size_type' (aka 'unsigned long') and 'int' [-Wsign-compare]\u001b[0m\n",
            "  224 |         \u001b[0;34mif\u001b[0m (query_vec.size() != dim) {\u001b[0m\n",
            "      | \u001b[0;1;32m            ~~~~~~~~~~~~~~~~ ^  ~~~\n",
            "\u001b[0m\u001b[1mlsh_cpp/simhash.cpp:231:65: \u001b[0m\u001b[0;1;35mwarning: \u001b[0m\u001b[1mcomparison of integers of different signs: 'size_type' (aka 'unsigned long') and 'int' [-Wsign-compare]\u001b[0m\n",
            "  231 |         \u001b[0;34mfor\u001b[0m (\u001b[0;34mint\u001b[0m t = \u001b[0;32m0\u001b[0m; t < num_tables && candidates_set.size() < max_candidates; ++t) {\u001b[0m\n",
            "      | \u001b[0;1;32m                                          ~~~~~~~~~~~~~~~~~~~~~ ^ ~~~~~~~~~~~~~~\n",
            "\u001b[0m\u001b[1mlsh_cpp/simhash.cpp:243:51: \u001b[0m\u001b[0;1;35mwarning: \u001b[0m\u001b[1mcomparison of integers of different signs: 'size_type' (aka 'unsigned long') and 'int' [-Wsign-compare]\u001b[0m\n",
            "  243 |                         \u001b[0;34mif\u001b[0m (candidates_set.size() >= max_candidates) \u001b[0;34mbreak\u001b[0m;\u001b[0m\n",
            "      | \u001b[0;1;32m                            ~~~~~~~~~~~~~~~~~~~~~ ^  ~~~~~~~~~~~~~~\n",
            "\u001b[0m\u001b[1mlsh_cpp/simhash.cpp:245:47: \u001b[0m\u001b[0;1;35mwarning: \u001b[0m\u001b[1mcomparison of integers of different signs: 'size_type' (aka 'unsigned long') and 'int' [-Wsign-compare]\u001b[0m\n",
            "  245 |                     \u001b[0;34mif\u001b[0m (candidates_set.size() >= max_candidates) \u001b[0;34mbreak\u001b[0m;\u001b[0m\n",
            "      | \u001b[0;1;32m                        ~~~~~~~~~~~~~~~~~~~~~ ^  ~~~~~~~~~~~~~~\n",
            "\u001b[0m\u001b[1mlsh_cpp/simhash.cpp:263:28: \u001b[0m\u001b[0;1;35mwarning: \u001b[0m\u001b[1mcomparison of integers of different signs: 'size_type' (aka 'unsigned long') and 'int' [-Wsign-compare]\u001b[0m\n",
            "  263 |         \u001b[0;34mif\u001b[0m (results.size() > k) {\u001b[0m\n",
            "      | \u001b[0;1;32m            ~~~~~~~~~~~~~~ ^ ~\n",
            "\u001b[0m\u001b[1mlsh_cpp/simhash.cpp:282:30: \u001b[0m\u001b[0;1;35mwarning: \u001b[0m\u001b[1mcomparison of integers of different signs: 'size_type' (aka 'unsigned long') and 'int' [-Wsign-compare]\u001b[0m\n",
            "  282 |         \u001b[0;34mif\u001b[0m (query_vec.size() != dim) {\u001b[0m\n",
            "      | \u001b[0;1;32m            ~~~~~~~~~~~~~~~~ ^  ~~~\n",
            "\u001b[0m\u001b[1mlsh_cpp/simhash.cpp:288:65: \u001b[0m\u001b[0;1;35mwarning: \u001b[0m\u001b[1mcomparison of integers of different signs: 'size_type' (aka 'unsigned long') and 'int' [-Wsign-compare]\u001b[0m\n",
            "  288 |         \u001b[0;34mfor\u001b[0m (\u001b[0;34mint\u001b[0m t = \u001b[0;32m0\u001b[0m; t < num_tables && candidates_set.size() < max_candidates; ++t) {\u001b[0m\n",
            "      | \u001b[0;1;32m                                          ~~~~~~~~~~~~~~~~~~~~~ ^ ~~~~~~~~~~~~~~\n",
            "\u001b[0m\u001b[1mlsh_cpp/simhash.cpp:300:51: \u001b[0m\u001b[0;1;35mwarning: \u001b[0m\u001b[1mcomparison of integers of different signs: 'size_type' (aka 'unsigned long') and 'int' [-Wsign-compare]\u001b[0m\n",
            "  300 |                         \u001b[0;34mif\u001b[0m (candidates_set.size() >= max_candidates) \u001b[0;34mbreak\u001b[0m;\u001b[0m\n",
            "      | \u001b[0;1;32m                            ~~~~~~~~~~~~~~~~~~~~~ ^  ~~~~~~~~~~~~~~\n",
            "\u001b[0m\u001b[1mlsh_cpp/simhash.cpp:302:47: \u001b[0m\u001b[0;1;35mwarning: \u001b[0m\u001b[1mcomparison of integers of different signs: 'size_type' (aka 'unsigned long') and 'int' [-Wsign-compare]\u001b[0m\n",
            "  302 |                     \u001b[0;34mif\u001b[0m (candidates_set.size() >= max_candidates) \u001b[0;34mbreak\u001b[0m;\u001b[0m\n",
            "      | \u001b[0;1;32m                        ~~~~~~~~~~~~~~~~~~~~~ ^  ~~~~~~~~~~~~~~\n",
            "\u001b[0m10 warnings generated.\n",
            "10 warnings generated.\n",
            "In file included from lsh_cpp/bindings.cpp:4:\n",
            "\u001b[1mlsh_cpp/simhash.cpp:182:24: \u001b[0m\u001b[0;1;35mwarning: \u001b[0m\u001b[1mcomparison of integers of different signs: 'size_type' (aka 'unsigned long') and 'int' [-Wsign-compare]\u001b[0m\n",
            "  182 |         \u001b[0;34mif\u001b[0m (vec.size() != dim) {\u001b[0m\n",
            "      | \u001b[0;1;32m            ~~~~~~~~~~ ^  ~~~\n",
            "\u001b[0m\u001b[1mlsh_cpp/simhash.cpp:224:30: \u001b[0m\u001b[0;1;35mwarning: \u001b[0m\u001b[1mcomparison of integers of different signs: 'size_type' (aka 'unsigned long') and 'int' [-Wsign-compare]\u001b[0m\n",
            "  224 |         \u001b[0;34mif\u001b[0m (query_vec.size() != dim) {\u001b[0m\n",
            "      | \u001b[0;1;32m            ~~~~~~~~~~~~~~~~ ^  ~~~\n",
            "\u001b[0m\u001b[1mlsh_cpp/simhash.cpp:231:65: \u001b[0m\u001b[0;1;35mwarning: \u001b[0m\u001b[1mcomparison of integers of different signs: 'size_type' (aka 'unsigned long') and 'int' [-Wsign-compare]\u001b[0m\n",
            "  231 |         \u001b[0;34mfor\u001b[0m (\u001b[0;34mint\u001b[0m t = \u001b[0;32m0\u001b[0m; t < num_tables && candidates_set.size() < max_candidates; ++t) {\u001b[0m\n",
            "      | \u001b[0;1;32m                                          ~~~~~~~~~~~~~~~~~~~~~ ^ ~~~~~~~~~~~~~~\n",
            "\u001b[0m\u001b[1mlsh_cpp/simhash.cpp:243:51: \u001b[0m\u001b[0;1;35mwarning: \u001b[0m\u001b[1mcomparison of integers of different signs: 'size_type' (aka 'unsigned long') and 'int' [-Wsign-compare]\u001b[0m\n",
            "  243 |                         \u001b[0;34mif\u001b[0m (candidates_set.size() >= max_candidates) \u001b[0;34mbreak\u001b[0m;\u001b[0m\n",
            "      | \u001b[0;1;32m                            ~~~~~~~~~~~~~~~~~~~~~ ^  ~~~~~~~~~~~~~~\n",
            "\u001b[0m\u001b[1mlsh_cpp/simhash.cpp:245:47: \u001b[0m\u001b[0;1;35mwarning: \u001b[0m\u001b[1mcomparison of integers of different signs: 'size_type' (aka 'unsigned long') and 'int' [-Wsign-compare]\u001b[0m\n",
            "  245 |                     \u001b[0;34mif\u001b[0m (candidates_set.size() >= max_candidates) \u001b[0;34mbreak\u001b[0m;\u001b[0m\n",
            "      | \u001b[0;1;32m                        ~~~~~~~~~~~~~~~~~~~~~ ^  ~~~~~~~~~~~~~~\n",
            "\u001b[0m\u001b[1mlsh_cpp/simhash.cpp:263:28: \u001b[0m\u001b[0;1;35mwarning: \u001b[0m\u001b[1mcomparison of integers of different signs: 'size_type' (aka 'unsigned long') and 'int' [-Wsign-compare]\u001b[0m\n",
            "  263 |         \u001b[0;34mif\u001b[0m (results.size() > k) {\u001b[0m\n",
            "      | \u001b[0;1;32m            ~~~~~~~~~~~~~~ ^ ~\n",
            "\u001b[0m\u001b[1mlsh_cpp/simhash.cpp:282:30: \u001b[0m\u001b[0;1;35mwarning: \u001b[0m\u001b[1mcomparison of integers of different signs: 'size_type' (aka 'unsigned long') and 'int' [-Wsign-compare]\u001b[0m\n",
            "  282 |         \u001b[0;34mif\u001b[0m (query_vec.size() != dim) {\u001b[0m\n",
            "      | \u001b[0;1;32m            ~~~~~~~~~~~~~~~~ ^  ~~~\n",
            "\u001b[0m\u001b[1mlsh_cpp/simhash.cpp:288:65: \u001b[0m\u001b[0;1;35mwarning: \u001b[0m\u001b[1mcomparison of integers of different signs: 'size_type' (aka 'unsigned long') and 'int' [-Wsign-compare]\u001b[0m\n",
            "  288 |         \u001b[0;34mfor\u001b[0m (\u001b[0;34mint\u001b[0m t = \u001b[0;32m0\u001b[0m; t < num_tables && candidates_set.size() < max_candidates; ++t) {\u001b[0m\n",
            "      | \u001b[0;1;32m                                          ~~~~~~~~~~~~~~~~~~~~~ ^ ~~~~~~~~~~~~~~\n",
            "\u001b[0m\u001b[1mlsh_cpp/simhash.cpp:300:51: \u001b[0m\u001b[0;1;35mwarning: \u001b[0m\u001b[1mcomparison of integers of different signs: 'size_type' (aka 'unsigned long') and 'int' [-Wsign-compare]\u001b[0m\n",
            "  300 |                         \u001b[0;34mif\u001b[0m (candidates_set.size() >= max_candidates) \u001b[0;34mbreak\u001b[0m;\u001b[0m\n",
            "      | \u001b[0;1;32m                            ~~~~~~~~~~~~~~~~~~~~~ ^  ~~~~~~~~~~~~~~\n",
            "\u001b[0m\u001b[1mlsh_cpp/simhash.cpp:302:47: \u001b[0m\u001b[0;1;35mwarning: \u001b[0m\u001b[1mcomparison of integers of different signs: 'size_type' (aka 'unsigned long') and 'int' [-Wsign-compare]\u001b[0m\n",
            "  302 |                     \u001b[0;34mif\u001b[0m (candidates_set.size() >= max_candidates) \u001b[0;34mbreak\u001b[0m;\u001b[0m\n",
            "      | \u001b[0;1;32m                        ~~~~~~~~~~~~~~~~~~~~~ ^  ~~~~~~~~~~~~~~\n",
            "\u001b[0mIn file included from lsh_cpp/bindings.cpp:4:\n",
            "\u001b[1mlsh_cpp/simhash.cpp:182:24: \u001b[0m\u001b[0;1;35mwarning: \u001b[0m\u001b[1mcomparison of integers of different signs: 'size_type' (aka 'unsigned long') and 'int' [-Wsign-compare]\u001b[0m\n",
            "  182 |         \u001b[0;34mif\u001b[0m (vec.size() != dim) {\u001b[0m\n",
            "      | \u001b[0;1;32m            ~~~~~~~~~~ ^  ~~~\n",
            "\u001b[0m\u001b[1mlsh_cpp/simhash.cpp:224:30: \u001b[0m\u001b[0;1;35mwarning: \u001b[0m\u001b[1mcomparison of integers of different signs: 'size_type' (aka 'unsigned long') and 'int' [-Wsign-compare]\u001b[0m\n",
            "  224 |         \u001b[0;34mif\u001b[0m (query_vec.size() != dim) {\u001b[0m\n",
            "      | \u001b[0;1;32m            ~~~~~~~~~~~~~~~~ ^  ~~~\n",
            "\u001b[0m\u001b[1mlsh_cpp/simhash.cpp:231:65: \u001b[0m\u001b[0;1;35mwarning: \u001b[0m\u001b[1mcomparison of integers of different signs: 'size_type' (aka 'unsigned long') and 'int' [-Wsign-compare]\u001b[0m\n",
            "  231 |         \u001b[0;34mfor\u001b[0m (\u001b[0;34mint\u001b[0m t = \u001b[0;32m0\u001b[0m; t < num_tables && candidates_set.size() < max_candidates; ++t) {\u001b[0m\n",
            "      | \u001b[0;1;32m                                          ~~~~~~~~~~~~~~~~~~~~~ ^ ~~~~~~~~~~~~~~\n",
            "\u001b[0m\u001b[1mlsh_cpp/simhash.cpp:243:51: \u001b[0m\u001b[0;1;35mwarning: \u001b[0m\u001b[1mcomparison of integers of different signs: 'size_type' (aka 'unsigned long') and 'int' [-Wsign-compare]\u001b[0m\n",
            "  243 |                         \u001b[0;34mif\u001b[0m (candidates_set.size() >= max_candidates) \u001b[0;34mbreak\u001b[0m;\u001b[0m\n",
            "      | \u001b[0;1;32m                            ~~~~~~~~~~~~~~~~~~~~~ ^  ~~~~~~~~~~~~~~\n",
            "\u001b[0m\u001b[1mlsh_cpp/simhash.cpp:245:47: \u001b[0m\u001b[0;1;35mwarning: \u001b[0m\u001b[1mcomparison of integers of different signs: 'size_type' (aka 'unsigned long') and 'int' [-Wsign-compare]\u001b[0m\n",
            "  245 |                     \u001b[0;34mif\u001b[0m (candidates_set.size() >= max_candidates) \u001b[0;34mbreak\u001b[0m;\u001b[0m\n",
            "      | \u001b[0;1;32m                        ~~~~~~~~~~~~~~~~~~~~~ ^  ~~~~~~~~~~~~~~\n",
            "\u001b[0m\u001b[1mlsh_cpp/simhash.cpp:263:28: \u001b[0m\u001b[0;1;35mwarning: \u001b[0m\u001b[1mcomparison of integers of different signs: 'size_type' (aka 'unsigned long') and 'int' [-Wsign-compare]\u001b[0m\n",
            "  263 |         \u001b[0;34mif\u001b[0m (results.size() > k) {\u001b[0m\n",
            "      | \u001b[0;1;32m            ~~~~~~~~~~~~~~ ^ ~\n",
            "\u001b[0m\u001b[1mlsh_cpp/simhash.cpp:282:30: \u001b[0m\u001b[0;1;35mwarning: \u001b[0m\u001b[1mcomparison of integers of different signs: 'size_type' (aka 'unsigned long') and 'int' [-Wsign-compare]\u001b[0m\n",
            "  282 |         \u001b[0;34mif\u001b[0m (query_vec.size() != dim) {\u001b[0m\n",
            "      | \u001b[0;1;32m            ~~~~~~~~~~~~~~~~ ^  ~~~\n",
            "\u001b[0m\u001b[1mlsh_cpp/simhash.cpp:288:65: \u001b[0m\u001b[0;1;35mwarning: \u001b[0m\u001b[1mcomparison of integers of different signs: 'size_type' (aka 'unsigned long') and 'int' [-Wsign-compare]\u001b[0m\n",
            "  288 |         \u001b[0;34mfor\u001b[0m (\u001b[0;34mint\u001b[0m t = \u001b[0;32m0\u001b[0m; t < num_tables && candidates_set.size() < max_candidates; ++t) {\u001b[0m\n",
            "      | \u001b[0;1;32m                                          ~~~~~~~~~~~~~~~~~~~~~ ^ ~~~~~~~~~~~~~~\n",
            "\u001b[0m\u001b[1mlsh_cpp/simhash.cpp:300:51: \u001b[0m\u001b[0;1;35mwarning: \u001b[0m\u001b[1mcomparison of integers of different signs: 'size_type' (aka 'unsigned long') and 'int' [-Wsign-compare]\u001b[0m\n",
            "  300 |                         \u001b[0;34mif\u001b[0m (candidates_set.size() >= max_candidates) \u001b[0;34mbreak\u001b[0m;\u001b[0m\n",
            "      | \u001b[0;1;32m                            ~~~~~~~~~~~~~~~~~~~~~ ^  ~~~~~~~~~~~~~~\n",
            "\u001b[0m\u001b[1mlsh_cpp/simhash.cpp:302:47: \u001b[0m\u001b[0;1;35mwarning: \u001b[0m\u001b[1mcomparison of integers of different signs: 'size_type' (aka 'unsigned long') and 'int' [-Wsign-compare]\u001b[0m\n",
            "  302 |                     \u001b[0;34mif\u001b[0m (candidates_set.size() >= max_candidates) \u001b[0;34mbreak\u001b[0m;\u001b[0m\n",
            "      | \u001b[0;1;32m                        ~~~~~~~~~~~~~~~~~~~~~ ^  ~~~~~~~~~~~~~~\n",
            "\u001b[0m10 warnings generated.\n",
            "creating build/lib.macosx-10.9-universal2-3.9\n",
            "clang++ -bundle -undefined dynamic_lookup -arch arm64 -arch x86_64 -Wl,-headerpad,0x1000 build/temp.macosx-10.9-universal2-3.9/lsh_cpp/bindings.o -o build/lib.macosx-10.9-universal2-3.9/lsh_cpp_module.cpython-39-darwin.so\n",
            "10 warnings generated.\n",
            "creating build/lib.macosx-10.9-universal2-3.9\n",
            "clang++ -bundle -undefined dynamic_lookup -arch arm64 -arch x86_64 -Wl,-headerpad,0x1000 build/temp.macosx-10.9-universal2-3.9/lsh_cpp/bindings.o -o build/lib.macosx-10.9-universal2-3.9/lsh_cpp_module.cpython-39-darwin.so\n",
            "copying build/lib.macosx-10.9-universal2-3.9/lsh_cpp_module.cpython-39-darwin.so -> \n",
            "copying build/lib.macosx-10.9-universal2-3.9/lsh_cpp_module.cpython-39-darwin.so -> \n",
            "/Users/lebaotanphong/Documents/image-deduplication-project/notebooks/image-deduplication-project\n",
            "/Users/lebaotanphong/Documents/image-deduplication-project/notebooks/image-deduplication-project\n"
          ]
        }
      ],
      "source": [
        "# Build C++ SimHash module\n",
        "%cd src/lsh_cpp_module\n",
        "\n",
        "# Verify pybind11 is installed\n",
        "try:\n",
        "    import pybind11\n",
        "    print(f\"✓ Pybind11 found: {pybind11.get_include()}\")\n",
        "except ImportError:\n",
        "    print(\"Installing pybind11...\")\n",
        "    !pip install -q pybind11\n",
        "\n",
        "# Build the module\n",
        "!python setup.py build_ext --inplace\n",
        "\n",
        "%cd ../.."
      ]
    },
    {
      "cell_type": "markdown",
      "metadata": {},
      "source": [
        "---\n",
        "\n",
        "## 📥 Prepare Your Dataset\n",
        "\n",
        "Choose one of the methods below to provide images:"
      ]
    },
    {
      "cell_type": "code",
      "execution_count": 8,
      "metadata": {},
      "outputs": [
        {
          "name": "stdout",
          "output_type": "stream",
          "text": [
            "⚠️ This cell is for Google Colab only\n",
            "💡 If running locally, your images should already be in data/raw/\n",
            "   Skip this cell and continue to Quick Start\n"
          ]
        }
      ],
      "source": [
        "# Option 1: Upload from Google Drive (Colab only)\n",
        "# 1. Upload your images to Google Drive folder\n",
        "# 2. Run this cell and authorize\n",
        "# 3. Your images will be copied to data/raw/\n",
        "\n",
        "import os\n",
        "import shutil\n",
        "\n",
        "# Check if running on Colab\n",
        "try:\n",
        "    from google.colab import drive\n",
        "    IN_COLAB = True\n",
        "except ImportError:\n",
        "    IN_COLAB = False\n",
        "    print(\"⚠️ This cell is for Google Colab only\")\n",
        "    print(\"💡 If running locally, your images should already be in data/raw/\")\n",
        "    print(\"   Skip this cell and continue to Quick Start\")\n",
        "\n",
        "if IN_COLAB:\n",
        "    # Mount Google Drive\n",
        "    drive.mount('/content/drive')\n",
        "    \n",
        "    # Specify your Drive folder path (edit this!)\n",
        "    DRIVE_FOLDER = '/content/drive/MyDrive/image_dataset'  # <- Change this to your folder\n",
        "    \n",
        "    # Copy images to data/raw/\n",
        "    os.makedirs('data/raw', exist_ok=True)\n",
        "    \n",
        "    if os.path.exists(DRIVE_FOLDER):\n",
        "        image_files = [f for f in os.listdir(DRIVE_FOLDER) \n",
        "                       if f.lower().endswith(('.png', '.jpg', '.jpeg', '.bmp'))]\n",
        "        \n",
        "        print(f\"Copying {len(image_files)} images from Drive...\")\n",
        "        for img_file in image_files:\n",
        "            src = os.path.join(DRIVE_FOLDER, img_file)\n",
        "            dst = os.path.join('data/raw', img_file)\n",
        "            shutil.copy2(src, dst)\n",
        "        \n",
        "        print(f\"✓ Copied {len(image_files)} images to data/raw/\")\n",
        "    else:\n",
        "        print(f\"⚠️ Folder not found: {DRIVE_FOLDER}\")\n",
        "        print(\"Please edit DRIVE_FOLDER path in the cell above\")"
      ]
    },
    {
      "cell_type": "markdown",
      "metadata": {},
      "source": [
        "### Option 2: Upload Files Directly\n",
        "\n",
        "Use Colab's file upload widget:"
      ]
    },
    {
      "cell_type": "code",
      "execution_count": null,
      "metadata": {},
      "outputs": [],
      "source": [
        "# Option 2: Upload files directly (Colab only)\n",
        "import os\n",
        "\n",
        "# Check if running on Colab\n",
        "try:\n",
        "    from google.colab import files\n",
        "    IN_COLAB = True\n",
        "except ImportError:\n",
        "    IN_COLAB = False\n",
        "    print(\"⚠️ This cell is for Google Colab only\")\n",
        "    print(\"💡 If running locally, place your images in data/raw/ folder\")\n",
        "\n",
        "if IN_COLAB:\n",
        "    os.makedirs('data/raw', exist_ok=True)\n",
        "    \n",
        "    print(\"Click 'Choose Files' and select your images...\")\n",
        "    uploaded = files.upload()\n",
        "    \n",
        "    # Save uploaded files to data/raw/\n",
        "    for filename, content in uploaded.items():\n",
        "        with open(f'data/raw/{filename}', 'wb') as f:\n",
        "            f.write(content)\n",
        "    \n",
        "    print(f\"\\n✓ Uploaded {len(uploaded)} images to data/raw/\")"
      ]
    },
    {
      "cell_type": "markdown",
      "metadata": {},
      "source": [
        "### Option 3: Download from URL\n",
        "\n",
        "If your dataset is hosted somewhere (Dropbox, OneDrive, etc.):"
      ]
    },
    {
      "cell_type": "code",
      "execution_count": null,
      "metadata": {},
      "outputs": [],
      "source": [
        "# Option 3: Download dataset from URL (zip file)\n",
        "import os\n",
        "import zipfile\n",
        "\n",
        "# Example: Download and extract a zip file\n",
        "DATASET_URL = \"https://your-url.com/dataset.zip\"  # <- Change this to your URL\n",
        "\n",
        "os.makedirs('data/raw', exist_ok=True)\n",
        "\n",
        "# Uncomment below to download\n",
        "# !wget -q {DATASET_URL} -O dataset.zip\n",
        "# with zipfile.ZipFile('dataset.zip', 'r') as zip_ref:\n",
        "#     zip_ref.extractall('data/raw')\n",
        "# !rm dataset.zip\n",
        "# print(\"✓ Downloaded and extracted dataset\")\n",
        "\n",
        "print(\"Edit DATASET_URL and uncomment the code above\")"
      ]
    },
    {
      "cell_type": "markdown",
      "metadata": {},
      "source": [
        "---\n",
        "\n",
        "## ⚡ Quick Start (Recommended)\n",
        "\n",
        "Run this cell for default configuration (EfficientNet + FAISS):"
      ]
    },
    {
      "cell_type": "code",
      "execution_count": 9,
      "metadata": {},
      "outputs": [
        {
          "name": "stdout",
          "output_type": "stream",
          "text": [
            "\n",
            "======================================================================\n",
            "🖼️  IMAGE DEDUPLICATION PIPELINE\n",
            "======================================================================\n",
            "📁 Dataset:            data/raw\n",
            "📊 Feature Extractor:  efficientnet\n",
            "🔍 Search Method:      faiss\n",
            "📏 Threshold:          50.0\n",
            "💾 Output Directory:   data/processed\n",
            "======================================================================\n",
            "\n",
            "2025-10-06 21:11:50,111 ERROR No images found in dataset\n"
          ]
        }
      ],
      "source": [
        "# Run with best defaults: EfficientNet + FAISS\n",
        "!python run_pipeline.py"
      ]
    },
    {
      "cell_type": "markdown",
      "metadata": {},
      "source": [
        "---\n",
        "\n",
        "## 🎛️ Advanced: Custom Configuration\n",
        "\n",
        "Want to try different combinations? Edit and run this cell:"
      ]
    },
    {
      "cell_type": "code",
      "execution_count": null,
      "metadata": {},
      "outputs": [],
      "source": [
        "# ========================================\n",
        "# CONFIGURATION - Edit these parameters\n",
        "# ========================================\n",
        "\n",
        "# Feature Extractor: 'resnet' or 'efficientnet'\n",
        "EXTRACTOR = 'efficientnet'\n",
        "\n",
        "# Search Method: 'faiss', 'simhash', or 'minhash'\n",
        "METHOD = 'faiss'\n",
        "\n",
        "# Threshold (for FAISS and MinHash): recommended 50-100 for FAISS, 0.5 for MinHash\n",
        "THRESHOLD = 50.0\n",
        "\n",
        "# Hamming Threshold (for SimHash only): recommended 5 for EfficientNet, 6 for ResNet\n",
        "HAMMING_THRESHOLD = 5\n",
        "\n",
        "# ========================================\n",
        "# Run pipeline with your configuration\n",
        "# ========================================\n",
        "if METHOD == 'simhash':\n",
        "    !python run_pipeline.py --extractor {EXTRACTOR} --method {METHOD} --hamming-threshold {HAMMING_THRESHOLD}\n",
        "else:\n",
        "    !python run_pipeline.py --extractor {EXTRACTOR} --method {METHOD} --threshold {THRESHOLD}"
      ]
    },
    {
      "cell_type": "markdown",
      "metadata": {},
      "source": [
        "### 💡 Recommended Configurations\n",
        "\n",
        "| Configuration | Extractor | Method | Threshold/Hamming | Use Case |\n",
        "|--------------|-----------|--------|-------------------|----------|\n",
        "| **Best Accuracy** ⭐ | efficientnet | faiss | 50 | Production, guaranteed results |\n",
        "| **Best Speed** ⭐ | efficientnet | faiss | 50 | Fast queries, moderate dataset |\n",
        "| **Baseline** | efficientnet | minhash | 0.5 | Comparison benchmark |\n",
        "| **Large Scale** 🔧 | efficientnet | simhash | 5 | Billions of images (requires C++ build) |\n",
        "| **High Dimensional** 🔧 | resnet | simhash | 6 | Very high-dim features (requires C++ build) |\n",
        "\n",
        "⭐ = Works on all systems  \n",
        "🔧 = Requires C++ SimHash module\n",
        "\n",
        "*Edit the configuration cell above to try different combinations!*"
      ]
    },
    {
      "cell_type": "markdown",
      "metadata": {},
      "source": [
        "## 📊 View Results"
      ]
    },
    {
      "cell_type": "code",
      "execution_count": null,
      "metadata": {},
      "outputs": [],
      "source": [
        "# Load and display evaluation results\n",
        "import json\n",
        "\n",
        "with open('data/processed/evaluation_full.json', 'r') as f:\n",
        "    results = json.load(f)\n",
        "\n",
        "print(\"=\" * 60)\n",
        "print(\"EVALUATION RESULTS\")\n",
        "print(\"=\" * 60)\n",
        "print(json.dumps(results, indent=2))\n",
        "\n",
        "# Visualize duplicate clusters\n",
        "print(\"\\n\" + \"=\" * 60)\n",
        "print(\"Visualizing duplicate clusters...\")\n",
        "print(\"=\" * 60)\n",
        "!python view_results.py"
      ]
    },
    {
      "cell_type": "markdown",
      "metadata": {},
      "source": [
        "## ⚡ Benchmark: C++ vs Python SimHash"
      ]
    },
    {
      "cell_type": "code",
      "execution_count": null,
      "metadata": {},
      "outputs": [],
      "source": [
        "# Run performance benchmark\n",
        "%cd src/lsh_cpp_module\n",
        "!python benchmark_comparison.py\n",
        "%cd ../.."
      ]
    },
    {
      "cell_type": "code",
      "execution_count": null,
      "metadata": {},
      "outputs": [],
      "source": [
        "# Display benchmark visualization\n",
        "from IPython.display import Image, display\n",
        "display(Image('src/lsh_cpp_module/lsh_benchmark_results.png'))"
      ]
    },
    {
      "cell_type": "markdown",
      "metadata": {},
      "source": [
        "## 📈 Summary & Conclusions\n",
        "\n",
        "### Key Findings:\n",
        "\n",
        "1. **FAISS**: Best overall performance with 100% accuracy and fastest query time\n",
        "2. **SimHash LSH (C++)**: Excellent for large-scale applications, memory efficient\n",
        "3. **MinHash LSH**: Good baseline, suitable for set-based similarity\n",
        "\n",
        "### Performance Highlights:\n",
        "\n",
        "- **C++ SimHash** achieves 165-187x speedup over Python implementations\n",
        "- **Multi-probing** critical for high recall with deep learning features\n",
        "- **Hamming threshold tuning**: 5-6 optimal for 100% recall\n",
        "\n",
        "### Recommendations:\n",
        "\n",
        "- Use **FAISS** for production systems requiring guaranteed accuracy\n",
        "- Use **SimHash C++** for billion-scale datasets with memory constraints\n",
        "- Tune `hamming_threshold` based on feature extractor (ResNet50: 6, EfficientNet: 5)"
      ]
    },
    {
      "cell_type": "markdown",
      "metadata": {},
      "source": [
        "---\n",
        "\n",
        "## 📚 References\n",
        "\n",
        "1.\n",
        "---\n",
        "\n",
        "**Team**: Lê Bảo Tấn Phong, Nguyễn Anh Quân, Phạm Văn Hên  \n",
        "**HCMUT** - Data Structures & Algorithms - 2025\n",
        "\n",
        "⭐ [GitHub Repository](https://github.com/tanphong-sudo/image-deduplication-project)"
      ]
    }
  ],
  "metadata": {
    "colab": {
      "authorship_tag": "ABX9TyNzQkprO3Y4ui8ZGiT+llkS",
      "include_colab_link": true,
      "provenance": []
    },
    "kernelspec": {
      "display_name": ".venv",
      "language": "python",
      "name": "python3"
    },
    "language_info": {
      "codemirror_mode": {
        "name": "ipython",
        "version": 3
      },
      "file_extension": ".py",
      "mimetype": "text/x-python",
      "name": "python",
      "nbconvert_exporter": "python",
      "pygments_lexer": "ipython3",
      "version": "3.9.6"
    }
  },
  "nbformat": 4,
  "nbformat_minor": 0
}
